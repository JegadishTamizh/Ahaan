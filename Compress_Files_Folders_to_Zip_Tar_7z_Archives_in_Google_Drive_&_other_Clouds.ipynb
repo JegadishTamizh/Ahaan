{
  "nbformat": 4,
  "nbformat_minor": 0,
  "metadata": {
    "colab": {
      "name": "Compress_Files_Folders_to_Zip_Tar_7z_Archives_in_Google_Drive_&_other_Clouds.ipynb",
      "provenance": [],
      "collapsed_sections": [],
      "include_colab_link": true
    },
    "kernelspec": {
      "display_name": "Python 3",
      "name": "python3"
    }
  },
  "cells": [
    {
      "cell_type": "markdown",
      "metadata": {
        "id": "view-in-github",
        "colab_type": "text"
      },
      "source": [
        "<a href=\"https://colab.research.google.com/github/JegadishTamizh/Ahaan/blob/master/Compress_Files_Folders_to_Zip_Tar_7z_Archives_in_Google_Drive_%26_other_Clouds.ipynb\" target=\"_parent\"><img src=\"https://colab.research.google.com/assets/colab-badge.svg\" alt=\"Open In Colab\"/></a>"
      ]
    },
    {
      "cell_type": "code",
      "metadata": {
        "cellView": "form",
        "colab": {
          "base_uri": "https://localhost:8080/"
        },
        "id": "tPuLCnbGFmxo",
        "outputId": "a738f3f6-0aea-4f3e-b1e4-1b2078a99363"
      },
      "source": [
        "#@markdown <br><center><a href='https://www.youtube.com/watch?v=qQ3CUHjbJ0w' alt=\"Mount-Gdrive\"/></center>\n",
        "#@markdown <center><h3>Mount Gdrive to /content/drive -- YouTube</h3></center><br>\n",
        " \n",
        "from google.colab import drive\n",
        "drive.mount('/content/drive', force_remount=True)"
      ],
      "execution_count": null,
      "outputs": [
        {
          "output_type": "stream",
          "text": [
            "Mounted at /content/drive\n"
          ],
          "name": "stdout"
        }
      ]
    },
    {
      "cell_type": "markdown",
      "metadata": {
        "id": "u5gtC3WRH5o-"
      },
      "source": [
        "## __Compress Files/Folders to **/Zip/Tar/7z** Archives in Google Drive & other Clouds__"
      ]
    },
    {
      "cell_type": "code",
      "metadata": {
        "colab": {
          "base_uri": "https://localhost:8080/"
        },
        "id": "XO8dzdyyH5pT",
        "outputId": "2f8619f2-84ad-4555-8ac0-52468d4cf469"
      },
      "source": [
        "# ============================= FORM ============================= #\n",
        "# @markdown #### ⬅️ Archive Files\n",
        "MODE = \"ZIP\" #@param [\"ZIP\", \"TAR\", \"7Z\"]\n",
        "FILENAME = \"Mr.Misunderstanding (2020)720p\"  # @param {type:\"string\"}\n",
        "PATH_TO_FILE = \"/content/drive/MyDrive/Mr.Misunderstanding (2020) 720p\"  # @param {type:\"string\"}\n",
        "ARCHIVE_PASSWORD = \"TMr.FMiss\" #@param {type:\"string\"}\n",
        " \n",
        "# option supports b k m g (bytes, kilobytes, megabytes, gigabytes)\n",
        "SPLIT = \"no\" #@param [\"1g\", \"2g\", \"3g\", \"4g\", \"5g\", \"no\"]\n",
        " \n",
        " \n",
        "compress = 4#@param  {type:\"slider\", min:0, max:9, step:0}\n",
        "#@markdown <font size=2%>Use this to path separate between to this character `|`. Ex `path/to /1 | path/to/2` </br>#Split only in zip mode.(Only for noobs)\n",
        "# ================================================================ #\n",
        "from pathlib import PurePosixPath\n",
        " \n",
        "pathList = PATH_TO_FILE.split('|')\n",
        "if MODE == \"ZIP\":\n",
        "    if not FILENAME:\n",
        "      FILENAME = \"/content/NEW_FILE.ZIP\"\n",
        "    if ARCHIVE_PASSWORD:\n",
        "      passADD = f'--password \"{ARCHIVE_PASSWORD}\"'\n",
        "    else:\n",
        "      passADD = ''\n",
        "    splitC = f\"-s {SPLIT}\" if not 'no' in SPLIT else \"\" \n",
        "    for part in pathList:\n",
        "      pathdic = PurePosixPath(part.strip())\n",
        "      parent = pathdic.parent\n",
        "      partName = pathdic.parts[-1]\n",
        "      cmd = f'cd \"{parent}\" && zip {passADD} -{compress} {splitC} -v -r -u \"{FILENAME}\" \"{partName}\"'\n",
        "      !$cmd\n",
        "elif MODE == \"TAR\":\n",
        "    if not FILENAME:\n",
        "      FILENAME = \"/content/NEW_FILE\"\n",
        "    cmd = f'GZIP=-{compress} tar -zcvf \"{FILENAME}.tar.gz\" {PATH_TO_FILE}'\n",
        "    !$cmd\n",
        "else:\n",
        "    if not FILENAME:\n",
        "        FILENAME = \"/content/NEW_FILE\"\n",
        "    for part in pathList:\n",
        "      pathdic = PurePosixPath(part.strip())\n",
        "      parent = pathdic.parent\n",
        "      partName = pathdic.parts[-1]\n",
        "      cmd = f'cd \"{parent}\" && 7z a -mx={compress} \"{FILENAME}.7z\" \"{partName}\"'\n",
        "      !$cmd"
      ],
      "execution_count": null,
      "outputs": [
        {
          "output_type": "stream",
          "text": [
            "\tzip warning: Mr.Misunderstanding (2020)720p not found or empty\n",
            "  adding: Mr.Misunderstanding (2020) 720p/\t(in=0) (out=0) (stored 0%)\n",
            "  adding: Mr.Misunderstanding (2020) 720p/Mr.Misunderstanding (2020)10bit.mkv .....................................................\t(in=559505408) (out=559287307) (deflated 0%)\n",
            "  adding: Mr.Misunderstanding (2020) 720p/TamilFusion.txt\t(in=64) (out=56) (deflated 13%)\n",
            "total bytes=559505472, compressed=559287387 -> 0% savings\n"
          ],
          "name": "stdout"
        }
      ]
    },
    {
      "cell_type": "code",
      "metadata": {
        "cellView": "form",
        "id": "feopL9Spvf1S"
      },
      "source": [
        "#@markdown <br><center><a href='https://www.youtube.com/watch?v=xjZTqRuP0cM' alt=\"UnMount-Gdrive\"/></center>\n",
        "#@markdown <center><h3>UnMount Google Drive -- YouTube</h3></center><br>\n",
        "\n",
        "from google.colab import drive\n",
        "drive.flush_and_unmount()"
      ],
      "execution_count": null,
      "outputs": []
    }
  ]
}